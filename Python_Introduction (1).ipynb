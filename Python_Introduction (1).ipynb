{
 "cells": [
  {
   "cell_type": "markdown",
   "metadata": {
    "id": "w6LWoqXcN4Hm"
   },
   "source": [
    "# Today's Agenda\n",
    "> ### Jupyter Notebook basics\n",
    "> ### Python basics\n",
    "> ### Operators in Python\n",
    "> ### Python Data Structures"
   ]
  },
  {
   "cell_type": "markdown",
   "metadata": {
    "id": "JfaqoMyoN4Hs"
   },
   "source": [
    "# What is Jupyter?\n",
    "Jupyter is an IDE typically used to develop data analysis and data science solutions. Jupyter, in its early days was called IPython(Hence the extension - ipynb) but it was changed to Jupyter to reflect the inclusion of support for other programming languages. It actually provides support for 40+ languages. The name Jupyter is an amalgamation of the major programming languages it supports - `JUlia PYTon E R`"
   ]
  },
  {
   "cell_type": "code",
   "execution_count": null,
   "metadata": {
    "id": "sIuCdDDfN4Ht"
   },
   "outputs": [],
   "source": [
    "### Reason to use Jupyter\n",
    "There are two major reasons we're using Jupyter over other IDEs\n",
    "- Jupyter has the provision to include rich media(images, hyperlinks, plots, graphs, audio, text formatting etc..)\n",
    "- Debugging in Jupyter is much more easier compared to other IDEs/Editors"
   ]
  },
  {
   "cell_type": "markdown",
   "metadata": {
    "id": "XHjd_VS_N4Hu"
   },
   "source": [
    "# Few keyboard shortcuts:\n",
    "- `Esc` + `M`: Convert a coding cell into markdown\n",
    "- `Esc` + `Y`: Convert a markdown cell into the code mode\n",
    "- `Shift` + `Enter`: To execute/run the current cell\n",
    "- `Esc` + `A`: To add a new cell atop the current cell\n",
    "- `Esc` + `B`: To add a new cell below the current cell\n",
    "- `Esc` + `DD`: To delete the current cell"
   ]
  },
  {
   "cell_type": "code",
   "execution_count": null,
   "metadata": {
    "colab": {
     "base_uri": "https://localhost:8080/"
    },
    "id": "thd348-dPMTj",
    "outputId": "8e20116f-f24c-43fe-a8cd-7bb2dfc8569a"
   },
   "outputs": [],
   "source": []
  },
  {
   "cell_type": "markdown",
   "metadata": {
    "id": "dGzieSv1N4Hu"
   },
   "source": [
    "# Headings\n",
    "Headings are important in documents as they lead the reader in on what is the topic being dealt. Jupyter makes use of Hashes(#) to indicate Headings.\n",
    "\n",
    "Syntax:\n",
    "    #s text"
   ]
  },
  {
   "cell_type": "markdown",
   "metadata": {
    "id": "woHXFt57N4Hv"
   },
   "source": [
    "# Heading Style 1\n",
    "## Heading Style 2\n",
    "### H3\n",
    "#### H4\n",
    "##### H5\n",
    "###### H6"
   ]
  },
  {
   "cell_type": "markdown",
   "metadata": {
    "id": "JIngVJOpN4H1"
   },
   "source": [
    "## Text emphasis\n",
    "We can emphasize a text in jupyter by either putting it in bold or italics\n",
    "\n",
    "**This statement is in bold**\n",
    "\n",
    "*This statement is italicisized*\n",
    "\n",
    "***Italicized and bold***"
   ]
  },
  {
   "cell_type": "markdown",
   "metadata": {
    "id": "OoDKuAkNN4H1"
   },
   "source": [
    "# Lists\n",
    "Lists are collections which help us stay organised. There are two kinds of lists:\n",
    "- Ordered list\n",
    "- Unordered list"
   ]
  },
  {
   "cell_type": "markdown",
   "metadata": {
    "id": "0Di7NUoGN4H2"
   },
   "source": [
    "### Unordered lists\n",
    "Unordered lists are collections of items where the ordering isn't important. We can put either `+`, `-` or `*` before an item to indicate that it belongs to an unordered list"
   ]
  },
  {
   "cell_type": "markdown",
   "metadata": {
    "id": "0PMGgPY6N4H2"
   },
   "source": [
    "- item 1\n",
    "- item 2\n",
    "- item 3\n",
    "- item 4\n",
    "- item 5\n",
    "- item 6"
   ]
  },
  {
   "cell_type": "markdown",
   "metadata": {
    "id": "izrvoMcIN4H3"
   },
   "source": [
    "### Ordered lists\n",
    "Ordered lists are collections of items where the ordering is important. We have to give a number followed by a full-stop to indicate that it's an ordered list"
   ]
  },
  {
   "cell_type": "markdown",
   "metadata": {
    "id": "s2uztrugN4H3"
   },
   "source": [
    "1. item 1\n",
    "2. item 2\n",
    "3. item 3\n",
    "4. item 4\n",
    "5. item 5"
   ]
  },
  {
   "cell_type": "markdown",
   "metadata": {
    "id": "qXiURwcCN4H3"
   },
   "source": [
    "# Hypertext\n",
    "Hypertext is a text on internet which when clicked upon redirects us to a new web page\n",
    "\n",
    "Syntax:\n",
    "\n",
    "    [Text](url *tooltip)"
   ]
  },
  {
   "cell_type": "markdown",
   "metadata": {
    "id": "vCj9UGRyN4H4"
   },
   "source": [
    "This is [Wikipedia](https://www.wikipedia.org/ \"Wiki\")"
   ]
  },
  {
   "cell_type": "markdown",
   "metadata": {},
   "source": [
    "[This](https://www.google.com/ \"Google\") leads to google"
   ]
  },
  {
   "cell_type": "markdown",
   "metadata": {
    "id": "aAH-cH8iN4H4"
   },
   "source": [
    "### Image\n",
    "\n",
    "![Data Science](https://miro.medium.com/max/2560/1*4oRB4tZrc4OLUeoc-p4wKQ.png)"
   ]
  },
  {
   "cell_type": "markdown",
   "metadata": {
    "id": "VlKQtP084wSg"
   },
   "source": [
    "![Dog](data:image/jpeg;base64,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)"
   ]
  },
  {
   "cell_type": "markdown",
   "metadata": {},
   "source": [
    "![dog2](data:image/jpeg;base64,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)"
   ]
  },
  {
   "cell_type": "markdown",
   "metadata": {},
   "source": []
  },
  {
   "cell_type": "markdown",
   "metadata": {
    "id": "HxFtFvlON4H6"
   },
   "source": [
    "# What is python?\n",
    "- Python is an interpreted, high-level,object oriented, multipurpose programming language. The version of python we'll using is python 3"
   ]
  },
  {
   "cell_type": "markdown",
   "metadata": {
    "id": "AfihLqStN4H7"
   },
   "source": [
    "### Some interesting aspects in python:\n",
    "- Python is a great language to start programming with because of it's ease of use and its english-like syntax\n",
    "- Python uses indentations to define scope whereas other programming languges might use flower brackets\n",
    "- Python uses new lines to indicate the end of line in a program instead of using semi colons"
   ]
  },
  {
   "cell_type": "markdown",
   "metadata": {
    "id": "aroJgfURN4H7"
   },
   "source": [
    "# Why do we use Python?\n",
    "Python and R are the two most ubiquitous languages used in data secience. Python wins over R in the sense that python can be scaled up with data while that's not possible with R. One more win for python is that , python provides us with many libraries and modules to handle data and work with many kinds of machine learning algorithms. Python can handle auditory, visual, textual kinds of information, to name a few. It also provides extensive support for deep learning"
   ]
  },
  {
   "cell_type": "markdown",
   "metadata": {
    "id": "7SOecCDbN4H7"
   },
   "source": [
    "# Literals and Variables\n",
    "\n",
    "### Literals\n",
    "A literal is nothing but a data types which conveys information. there are many kinds of literals in python where the four main datatypes are:\n",
    "- integral values: `int`\n",
    "- decimal values: `float`\n",
    "- true or false statements: `bool`\n",
    "- text data: `str`   \n",
    "Apart from these, there are many other datas type which we'll we looking at later"
   ]
  },
  {
   "cell_type": "markdown",
   "metadata": {
    "id": "EBPcBYUON4H8"
   },
   "source": [
    "### Variable\n",
    "Variables are nothing but place holders to store the literal values. Variables can be accessed by their names and some rules have to be followed while naming variables"
   ]
  },
  {
   "cell_type": "markdown",
   "metadata": {
    "id": "JlWXjN5MN4H8"
   },
   "source": [
    "Naming conventions for variables:\n",
    "- A variable name can only contain alphabets, numbers and under score\n",
    "- A variable name can only start with an underscore or an alphabet\n",
    "- A variable name can't be the same as any keyword(keywords are sequences of characters which have some special meaning to them)\n",
    "- A variable name can't have any spaces between the various parts of the variable. If we want to distinguish them, we can use and underscore or make the variable name CamelCase\n",
    "> variable_name\n",
    "> VariableName\n",
    "- It is suggested that we make our variable names as descriptive as possible\n",
    "> a = 21\n",
    "> age = 21"
   ]
  },
  {
   "cell_type": "markdown",
   "metadata": {
    "id": "QRVWBc6zN4H8"
   },
   "source": [
    "Storing a literal into a variable is called as assigning the variable with a literal and is accomplished using the equality(`=`) symbol"
   ]
  },
  {
   "cell_type": "code",
   "execution_count": 7,
   "metadata": {
    "id": "ODKf9P47N4H8"
   },
   "outputs": [],
   "source": [
    "# Variable declaration\n",
    "age = 34\n",
    "height = 173"
   ]
  },
  {
   "cell_type": "code",
   "execution_count": 2,
   "metadata": {
    "id": "WuJe2sYN4wSi",
    "outputId": "e566a133-375f-4c6b-c0fc-284756b94d21"
   },
   "outputs": [
    {
     "data": {
      "text/plain": [
       "34"
      ]
     },
     "execution_count": 2,
     "metadata": {},
     "output_type": "execute_result"
    }
   ],
   "source": [
    "age"
   ]
  },
  {
   "cell_type": "code",
   "execution_count": 3,
   "metadata": {
    "id": "E8yZ44bQ4wSi",
    "outputId": "cb794aff-9cdd-4432-f984-9da5a926bdfa"
   },
   "outputs": [],
   "source": [
    "name = \"Maurya\""
   ]
  },
  {
   "cell_type": "code",
   "execution_count": 4,
   "metadata": {},
   "outputs": [
    {
     "data": {
      "text/plain": [
       "'Maurya'"
      ]
     },
     "execution_count": 4,
     "metadata": {},
     "output_type": "execute_result"
    }
   ],
   "source": [
    "name"
   ]
  },
  {
   "cell_type": "code",
   "execution_count": 5,
   "metadata": {},
   "outputs": [
    {
     "data": {
      "text/plain": [
       "int"
      ]
     },
     "execution_count": 5,
     "metadata": {},
     "output_type": "execute_result"
    }
   ],
   "source": [
    "type(age)"
   ]
  },
  {
   "cell_type": "code",
   "execution_count": 6,
   "metadata": {},
   "outputs": [
    {
     "data": {
      "text/plain": [
       "str"
      ]
     },
     "execution_count": 6,
     "metadata": {},
     "output_type": "execute_result"
    }
   ],
   "source": [
    "type(name)"
   ]
  },
  {
   "cell_type": "code",
   "execution_count": 30,
   "metadata": {
    "id": "RGpEm4a54wSi"
   },
   "outputs": [],
   "source": [
    "a = 4.5 # float\n",
    "b = True # boolean\n",
    "c = False # boolean\n",
    "d = \"Hi\" # string\n",
    "e = [1,2,4,3.5,\"hello\"] # list\n",
    "f = (2,3,4,\"a\",False)# tuple\n",
    "g = {\"hi\",2,True}# set\n",
    "h = {\"age\":34,\"name\":\"Maurya\"}# dictionary"
   ]
  },
  {
   "cell_type": "code",
   "execution_count": 9,
   "metadata": {},
   "outputs": [
    {
     "data": {
      "text/plain": [
       "float"
      ]
     },
     "execution_count": 9,
     "metadata": {},
     "output_type": "execute_result"
    }
   ],
   "source": [
    "type(a)"
   ]
  },
  {
   "cell_type": "code",
   "execution_count": 10,
   "metadata": {},
   "outputs": [
    {
     "data": {
      "text/plain": [
       "bool"
      ]
     },
     "execution_count": 10,
     "metadata": {},
     "output_type": "execute_result"
    }
   ],
   "source": [
    "type(b)"
   ]
  },
  {
   "cell_type": "code",
   "execution_count": 11,
   "metadata": {},
   "outputs": [
    {
     "data": {
      "text/plain": [
       "dict"
      ]
     },
     "execution_count": 11,
     "metadata": {},
     "output_type": "execute_result"
    }
   ],
   "source": [
    "type(h)"
   ]
  },
  {
   "cell_type": "code",
   "execution_count": 14,
   "metadata": {
    "id": "p_gD9NesN4IA"
   },
   "outputs": [],
   "source": [
    "# to initialise different variables with different values in the same line\n",
    "a,b,c= 1,\"hello\",True"
   ]
  },
  {
   "cell_type": "code",
   "execution_count": 17,
   "metadata": {
    "id": "RFYb2ISO4wSk",
    "outputId": "3e1680b6-5d6e-429c-da5d-8cf3767758d6"
   },
   "outputs": [
    {
     "data": {
      "text/plain": [
       "True"
      ]
     },
     "execution_count": 17,
     "metadata": {},
     "output_type": "execute_result"
    }
   ],
   "source": [
    "c"
   ]
  },
  {
   "cell_type": "code",
   "execution_count": 18,
   "metadata": {
    "colab": {
     "base_uri": "https://localhost:8080/",
     "height": 205
    },
    "id": "PLyL-zijN4IB",
    "outputId": "f9b1f458-88c3-439f-eb24-6f1782dfe82c"
   },
   "outputs": [
    {
     "ename": "ValueError",
     "evalue": "not enough values to unpack (expected 3, got 2)",
     "output_type": "error",
     "traceback": [
      "\u001b[1;31m---------------------------------------------------------------------------\u001b[0m",
      "\u001b[1;31mValueError\u001b[0m                                Traceback (most recent call last)",
      "\u001b[1;32m<ipython-input-18-e39ec4ab6e5b>\u001b[0m in \u001b[0;36m<module>\u001b[1;34m\u001b[0m\n\u001b[0;32m      1\u001b[0m \u001b[1;31m#whenever we're trying to store literals to variables in the same, the number\u001b[0m\u001b[1;33m\u001b[0m\u001b[1;33m\u001b[0m\u001b[1;33m\u001b[0m\u001b[0m\n\u001b[0;32m      2\u001b[0m \u001b[1;31m# of literals should match with the number of variables\u001b[0m\u001b[1;33m\u001b[0m\u001b[1;33m\u001b[0m\u001b[1;33m\u001b[0m\u001b[0m\n\u001b[1;32m----> 3\u001b[1;33m \u001b[0ma\u001b[0m\u001b[1;33m,\u001b[0m\u001b[0mb\u001b[0m\u001b[1;33m,\u001b[0m\u001b[0mc\u001b[0m \u001b[1;33m=\u001b[0m \u001b[1;36m1\u001b[0m\u001b[1;33m,\u001b[0m\u001b[1;36m2\u001b[0m\u001b[1;33m\u001b[0m\u001b[1;33m\u001b[0m\u001b[0m\n\u001b[0m",
      "\u001b[1;31mValueError\u001b[0m: not enough values to unpack (expected 3, got 2)"
     ]
    }
   ],
   "source": [
    "#whenever we're trying to store literals to variables in the same, the number\n",
    "# of literals should match with the number of variables\n",
    "a,b,c = 1,2"
   ]
  },
  {
   "cell_type": "code",
   "execution_count": 20,
   "metadata": {
    "id": "3OIFqSQ3N4IB"
   },
   "outputs": [],
   "source": [
    "# initialising different variables with the same value\n",
    "a=b=c= 10"
   ]
  },
  {
   "cell_type": "code",
   "execution_count": 21,
   "metadata": {
    "id": "5bSivNiw4wSy",
    "outputId": "f4ed2b86-75c5-4be5-cfa7-1634d258d193"
   },
   "outputs": [
    {
     "data": {
      "text/plain": [
       "10"
      ]
     },
     "execution_count": 21,
     "metadata": {},
     "output_type": "execute_result"
    }
   ],
   "source": [
    "a"
   ]
  },
  {
   "cell_type": "code",
   "execution_count": 22,
   "metadata": {
    "id": "x7L-7xFg4wSy",
    "outputId": "d6bf0bb7-7618-42a4-fee5-6752fcbeecb1"
   },
   "outputs": [
    {
     "data": {
      "text/plain": [
       "10"
      ]
     },
     "execution_count": 22,
     "metadata": {},
     "output_type": "execute_result"
    }
   ],
   "source": [
    "b"
   ]
  },
  {
   "cell_type": "markdown",
   "metadata": {
    "id": "rfXrHxd5N4IC"
   },
   "source": [
    "### In python, variables don't need to be declared(we don't need to say what kind of a variable it should hold) and they can change type and values mid-way"
   ]
  },
  {
   "cell_type": "code",
   "execution_count": 23,
   "metadata": {
    "id": "oxgVuZ86N4ID",
    "outputId": "8ae6432e-49af-4d63-8d83-0a23149563da"
   },
   "outputs": [],
   "source": [
    "a = 4"
   ]
  },
  {
   "cell_type": "code",
   "execution_count": 24,
   "metadata": {
    "id": "E3D6J1xqN4ID",
    "outputId": "504b80b6-d9bc-4e79-dab3-acb8ac708671"
   },
   "outputs": [
    {
     "data": {
      "text/plain": [
       "int"
      ]
     },
     "execution_count": 24,
     "metadata": {},
     "output_type": "execute_result"
    }
   ],
   "source": [
    "type(a)"
   ]
  },
  {
   "cell_type": "code",
   "execution_count": 25,
   "metadata": {},
   "outputs": [],
   "source": [
    "a = 5.6"
   ]
  },
  {
   "cell_type": "code",
   "execution_count": 26,
   "metadata": {},
   "outputs": [
    {
     "data": {
      "text/plain": [
       "float"
      ]
     },
     "execution_count": 26,
     "metadata": {},
     "output_type": "execute_result"
    }
   ],
   "source": [
    "type(a)"
   ]
  },
  {
   "cell_type": "code",
   "execution_count": 32,
   "metadata": {},
   "outputs": [
    {
     "name": "stdout",
     "output_type": "stream",
     "text": [
      "4.5\n",
      "True\n",
      "False\n",
      "Hi\n"
     ]
    }
   ],
   "source": [
    "print(a)\n",
    "print(b)\n",
    "print(c)\n",
    "print(d)"
   ]
  },
  {
   "cell_type": "markdown",
   "metadata": {
    "id": "fSFGUAOUN4IE"
   },
   "source": [
    "# First Python Program"
   ]
  },
  {
   "cell_type": "code",
   "execution_count": 35,
   "metadata": {
    "colab": {
     "base_uri": "https://localhost:8080/"
    },
    "id": "fAtIfF8_N4IE",
    "outputId": "c86c78f4-a7e2-4810-f719-e520a2764e5b"
   },
   "outputs": [
    {
     "name": "stdout",
     "output_type": "stream",
     "text": [
      "Hello World!\n",
      "Learning Python is fun\n"
     ]
    }
   ],
   "source": [
    "# Display two messages\n",
    "print('Hello World!')\n",
    "print(\"Learning Python is fun\")"
   ]
  },
  {
   "cell_type": "markdown",
   "metadata": {
    "id": "jLwsI7whN4IE"
   },
   "source": [
    "### Some of the rules in python\n",
    "**Indentation matters in Python.** Note that the statements are entered from the first column in the new line. The Python interpreter will report an error if the program is typed as follows:\n",
    "\n",
    "\tprint(\"Welcome to Python\")\n",
    "print(\"Python is fun\")\n",
    "\n",
    "**Don’t put any punctuation at the end of a statement**. For example, the Python interpreter will report errors for the following code:\n",
    "\n",
    "print(\"Welcome to Python\").\n",
    "print(\"Python is fun\"),\n",
    "\n",
    "**Python programs are case sensitive.** It would be wrong, for example, to replace print in the program with Print."
   ]
  },
  {
   "cell_type": "markdown",
   "metadata": {
    "id": "uV7f7PciN4IF"
   },
   "source": [
    "# Writing comments in python\n",
    "Comment is not a python statement and thus is ignored by python interpreter. But, it is plain text that documents what the program is and how it is constructed.\n",
    "\n",
    "It is always good to write a comment that describes purpose of each statement included in a program.\n",
    "\n",
    "It increases readability of the program.\n",
    "\n",
    "In Python, one can write comments as:\n",
    "1. Single line comment starting with a pound (#) sign\n",
    "2. Paragraph comment that starts and ends with three consecutive single quotes (''') or three consecutive double quotes (\"\"\")."
   ]
  },
  {
   "cell_type": "code",
   "execution_count": null,
   "metadata": {
    "id": "-1W4P5g3N4IF",
    "outputId": "a12f1ece-27c7-4990-c47a-6ccb1233b35f"
   },
   "outputs": [],
   "source": [
    "#This statement prints hello world\n",
    "print(\"Hello world!\")"
   ]
  },
  {
   "cell_type": "markdown",
   "metadata": {
    "id": "GEdCKAz14wS0"
   },
   "source": [
    "### Multi line Comment"
   ]
  },
  {
   "cell_type": "code",
   "execution_count": 42,
   "metadata": {
    "id": "dYNmqECWN4IF"
   },
   "outputs": [
    {
     "name": "stdout",
     "output_type": "stream",
     "text": [
      "4.5\n",
      "True\n"
     ]
    }
   ],
   "source": [
    "\"\"\"\n",
    "Paragraph comment that starts and ends with three\n",
    "consecutive single quotes (''') or\n",
    "three consecutive double quotes.\n",
    "hello\n",
    "happy\n",
    "\"\"\"\n",
    "print(a)\n",
    "print(b)"
   ]
  },
  {
   "cell_type": "markdown",
   "metadata": {
    "id": "Gnq0cyFlN4IG"
   },
   "source": [
    "# Python Keywords\n",
    "**Keywords are the pre-defined or built-in words whose meaning is already known to python interpreter.**"
   ]
  },
  {
   "cell_type": "markdown",
   "metadata": {
    "id": "OdGP6DuwN4IG"
   },
   "source": [
    "Keywords are the reserved words in python\n",
    "\n",
    "We can't use a keyword as variable name, function name or any other identifier\n",
    "\n",
    "All the keywords except True, False and None are in lowercase and they must be written as is."
   ]
  },
  {
   "cell_type": "code",
   "execution_count": 43,
   "metadata": {
    "colab": {
     "base_uri": "https://localhost:8080/"
    },
    "id": "-JzF_J9tN4IG",
    "outputId": "06c1a46a-aee5-4e1f-9fa7-8cb65ef161af"
   },
   "outputs": [
    {
     "name": "stdout",
     "output_type": "stream",
     "text": [
      "['False', 'None', 'True', 'and', 'as', 'assert', 'async', 'await', 'break', 'class', 'continue', 'def', 'del', 'elif', 'else', 'except', 'finally', 'for', 'from', 'global', 'if', 'import', 'in', 'is', 'lambda', 'nonlocal', 'not', 'or', 'pass', 'raise', 'return', 'try', 'while', 'with', 'yield']\n",
      "Total number of keywords  35\n"
     ]
    }
   ],
   "source": [
    "#Get all keywords in python 3.6\n",
    "\n",
    "import keyword\n",
    "\n",
    "print(keyword.kwlist)\n",
    "\n",
    "print(\"Total number of keywords \", len(keyword.kwlist))"
   ]
  },
  {
   "cell_type": "code",
   "execution_count": 48,
   "metadata": {},
   "outputs": [],
   "source": [
    "# as=5 shouldn't use keywords as variable names\n",
    "#my name = \"Maurya\" no spaces in variable names\n",
    "# @a= 5 shouldn't use special symbols in variable names\n",
    "#4_no = 3 vaiable name shouldn't start with a number"
   ]
  },
  {
   "cell_type": "code",
   "execution_count": null,
   "metadata": {
    "id": "a5AKIno24wS1"
   },
   "outputs": [],
   "source": []
  },
  {
   "cell_type": "markdown",
   "metadata": {
    "id": "sOmkcVmPN4IG"
   },
   "source": [
    "# Identifiers\n",
    "**Identifiers are the user-defined names given to various program elements such as variable, function, class...etc.**"
   ]
  },
  {
   "cell_type": "markdown",
   "metadata": {
    "id": "cxTayX_wN4IG"
   },
   "source": [
    "**Rules for Writing Identifiers:**\n",
    "\n",
    "1. Identifiers can be a combination of letters in lowercase (a to z) or uppercase (A to Z) or digits (0 to 9) or an underscore (_).\n",
    "\n",
    "2. An identifier cannot start with a digit. 1variable is invalid, but variable1 is perfectly fine.\n",
    "\n",
    "3. Keywords cannot be used as identifiers.\n",
    "\n",
    "4. No special symbol can be used\n",
    "\n",
    "5. An identifier can be of any length.\n",
    "\n",
    "**Note**:\n",
    "* Python is a case-sensitive language. This means, the identifiers amount, AMOUNT, and aMouNT are not the same.\n",
    "* Always name identifiers that make sense. For example, num is meaningful compared to x\n",
    "* Multiple words can be separated using an underscore. Ex.,compound_interest\n",
    "* We can also use camel-case style of writing, i.e., capitalize every first letter of the word except the initial word without any spaces. For example: camelCaseExample\n"
   ]
  },
  {
   "cell_type": "markdown",
   "metadata": {
    "id": "vGhOnYqfN4IH"
   },
   "source": [
    "### Note: 2.\n",
    "Python is dynamically typed language. i.e., a variable can hold different types of literals at different times. This is not possible with static-typed languages like C, C++ and Java."
   ]
  },
  {
   "cell_type": "code",
   "execution_count": 58,
   "metadata": {
    "id": "1YDvuuQbN4IJ"
   },
   "outputs": [],
   "source": [
    "# Number Swaping\n",
    "a,b = 10,20"
   ]
  },
  {
   "cell_type": "code",
   "execution_count": 56,
   "metadata": {
    "id": "4QoqXRbW4wS2",
    "outputId": "e92c02bb-900b-4889-8473-96ae25d44e33"
   },
   "outputs": [],
   "source": [
    "# Method 1\n",
    "temp = a # temp will be 10\n",
    "a = b # a will be 20\n",
    "b = temp # temp is previous a which is 10"
   ]
  },
  {
   "cell_type": "code",
   "execution_count": 57,
   "metadata": {
    "id": "mnqBmGad4wS2"
   },
   "outputs": [
    {
     "data": {
      "text/plain": [
       "(20, 10)"
      ]
     },
     "execution_count": 57,
     "metadata": {},
     "output_type": "execute_result"
    }
   ],
   "source": [
    "a,b"
   ]
  },
  {
   "cell_type": "code",
   "execution_count": 59,
   "metadata": {
    "id": "rgE_eIUl4wS3"
   },
   "outputs": [],
   "source": [
    "# Method 2\n",
    "a,b= b,a"
   ]
  },
  {
   "cell_type": "code",
   "execution_count": 60,
   "metadata": {
    "id": "uPRWJfnh4wS3",
    "outputId": "30dc634a-3ec5-452f-9009-74372415249f"
   },
   "outputs": [
    {
     "name": "stdout",
     "output_type": "stream",
     "text": [
      "20 10\n"
     ]
    }
   ],
   "source": [
    "print(a,b)"
   ]
  },
  {
   "cell_type": "markdown",
   "metadata": {},
   "source": [
    "\"=\" is called assignment operator. It doesn't compare lhs and rhs. It simply assigns the value on the right of it to the variable on the left of it"
   ]
  },
  {
   "cell_type": "markdown",
   "metadata": {
    "id": "iy15dP0BN4IJ"
   },
   "source": [
    "### Note: 3. Type Conversion\n",
    "You can convert one variable type to another type using type(value)"
   ]
  },
  {
   "cell_type": "code",
   "execution_count": null,
   "metadata": {
    "colab": {
     "base_uri": "https://localhost:8080/"
    },
    "id": "8nXLt4skN4IJ",
    "outputId": "283e06e2-563c-4a3f-f773-b750792d0e44"
   },
   "outputs": [],
   "source": []
  },
  {
   "cell_type": "code",
   "execution_count": null,
   "metadata": {
    "id": "bzU_-hj24wS3",
    "outputId": "7e250c34-7b2c-4294-d575-ad191755e57f"
   },
   "outputs": [],
   "source": []
  },
  {
   "cell_type": "code",
   "execution_count": null,
   "metadata": {
    "id": "yCizNSBJ4wS4",
    "outputId": "f3f9a63d-404f-479e-a9eb-a905832608f5"
   },
   "outputs": [],
   "source": []
  },
  {
   "cell_type": "code",
   "execution_count": null,
   "metadata": {
    "id": "NIae1pIr4wS4",
    "outputId": "06da35a2-4843-46f9-ded1-c47d35172659"
   },
   "outputs": [],
   "source": []
  },
  {
   "cell_type": "code",
   "execution_count": null,
   "metadata": {
    "id": "IWwCSxjV4wS4",
    "outputId": "e49e4101-db95-47f5-a002-e5e3705e94d5"
   },
   "outputs": [],
   "source": []
  },
  {
   "cell_type": "markdown",
   "metadata": {
    "id": "JfMnHC5VN4IK"
   },
   "source": [
    "# Operators and Expressions"
   ]
  },
  {
   "cell_type": "markdown",
   "metadata": {
    "id": "-NBXurMgN4IK"
   },
   "source": [
    "Operator is a predefined symbol that performs operation using operands.\n",
    "e.g., + is an operator that performs addition using two operands.\n",
    "\n",
    "Expression is collection of operands (literals/variables) and operators that when evaluated gives some result.\n",
    "e.g., (2+3)-5 is an expression that returns result 0.\n"
   ]
  },
  {
   "cell_type": "markdown",
   "metadata": {
    "id": "WqJEk1zoN4IK"
   },
   "source": [
    "### Arithmetics operators"
   ]
  },
  {
   "cell_type": "code",
   "execution_count": null,
   "metadata": {
    "id": "HTDlmRWzN4IK",
    "outputId": "da588d89-2341-4bea-a627-5f9ba4ea5e5f"
   },
   "outputs": [],
   "source": []
  },
  {
   "cell_type": "code",
   "execution_count": null,
   "metadata": {
    "id": "Tf15yzoW4wS5",
    "outputId": "cbac16b1-70b0-4fb2-fe86-50acfffe36ae"
   },
   "outputs": [],
   "source": []
  },
  {
   "cell_type": "code",
   "execution_count": null,
   "metadata": {
    "id": "xVpcC0mV4wS5",
    "outputId": "df9c7c6c-970f-4226-f10c-836eeab562a9"
   },
   "outputs": [],
   "source": []
  },
  {
   "cell_type": "code",
   "execution_count": null,
   "metadata": {
    "id": "sC9J_Cyd4wS6",
    "outputId": "dd8d6b57-195d-4ca0-81bb-f9106263778e"
   },
   "outputs": [],
   "source": []
  },
  {
   "cell_type": "code",
   "execution_count": null,
   "metadata": {
    "id": "z1DoW-7s4wS6",
    "outputId": "69a4d3c8-1c30-40d0-96b2-a8634c05d518"
   },
   "outputs": [],
   "source": []
  },
  {
   "cell_type": "code",
   "execution_count": null,
   "metadata": {
    "id": "K47NDlzd4wS6",
    "outputId": "2ca0c9fc-bf46-4521-f04f-0b5a7ce9b5fa"
   },
   "outputs": [],
   "source": []
  },
  {
   "cell_type": "markdown",
   "metadata": {
    "id": "9JuBhswCN4IK"
   },
   "source": [
    "### Comparison operators: relational operators\n",
    " .>,<,==,!=,>=,<="
   ]
  }
 ],
 "metadata": {
  "colab": {
   "provenance": []
  },
  "kernelspec": {
   "display_name": "Python 3",
   "language": "python",
   "name": "python3"
  },
  "language_info": {
   "codemirror_mode": {
    "name": "ipython",
    "version": 3
   },
   "file_extension": ".py",
   "mimetype": "text/x-python",
   "name": "python",
   "nbconvert_exporter": "python",
   "pygments_lexer": "ipython3",
   "version": "3.8.5"
  }
 },
 "nbformat": 4,
 "nbformat_minor": 1
}
